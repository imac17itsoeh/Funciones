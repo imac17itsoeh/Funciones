{
 "cells": [
  {
   "cell_type": "code",
   "execution_count": 11,
   "id": "e9db266f-0800-4804-9a8c-54635513c1a9",
   "metadata": {},
   "outputs": [],
   "source": [
    "import CodeBase.Valeria as v\n",
    "import CodeBase.Carlos as c\n",
    "import CodeBase.Asael as am\n",
    "import CodeBase.Sebastian as s\n",
    "import CodeBase.Lizbeth as l\n",
    "import CodeBase.formatear_tabla as tabla"
   ]
  },
  {
   "cell_type": "code",
   "execution_count": 12,
   "id": "38829d8f-8dae-4112-9eb1-14d33ed67492",
   "metadata": {},
   "outputs": [
    {
     "name": "stdout",
     "output_type": "stream",
     "text": [
      "Clases:  [1, 2, 3, 4, 5]\n",
      "Frec. absoluta:  [6, 7, 7, 4, 6]\n",
      "Frecuencia relativa: [20.0, 23.333333333333332, 23.333333333333332, 13.333333333333334, 20.0]\n",
      "Frecuencia relativa acumulada: [20.0, 43.33333333333333, 66.66666666666666, 79.99999999999999, 99.99999999999999]\n"
     ]
    }
   ],
   "source": [
    "datos_entrada = [1,2,3,4,5,2,3,4,5,3,2,1,1,1,3,4,2,3,1,2,5,2,4,5,2,1,3,5,3,5]\n",
    "clases, fa_absoluta= v.frec_abs(datos_entrada)\n",
    "clases_sorted = c.ordenar_asc(clases)\n",
    "fa_sorted = am.sort_clases_fa(clases, clases_sorted, fa_absoluta)\n",
    "print (\"Clases: \", clases_sorted)\n",
    "print(\"Frec. absoluta: \", fa_sorted)\n",
    "frecuencia_relativa = s.obtener_frecuencia_relativa(fa_sorted)\n",
    "print(\"Frecuencia relativa:\", frecuencia_relativa)\n",
    "frecuencia_relativa_acumulada=l.obtener_frecuencia_relativa_acumulada(frecuencia_relativa)\n",
    "print(\"Frecuencia relativa acumulada:\", frecuencia_relativa_acumulada)"
   ]
  },
  {
   "cell_type": "code",
   "execution_count": 13,
   "id": "d129486a-4a58-4ea2-8f8f-94be73946ddb",
   "metadata": {},
   "outputs": [
    {
     "name": "stdout",
     "output_type": "stream",
     "text": [
      "------+----------+----------+-----------+\n",
      "| Clases | F absoluta | F relativa | F acumulada |\n",
      "------+----------+----------+-----------+\n",
      "| 1 | 6 | 20.0 | 20.0 |\n",
      "| 2 | 7 | 23.333333333333332 | 43.33333333333333 |\n",
      "| 3 | 7 | 23.333333333333332 | 66.66666666666666 |\n",
      "| 4 | 4 | 13.333333333333334 | 79.99999999999999 |\n",
      "| 5 | 6 | 20.0 | 99.99999999999999 |\n",
      "------+----------+----------+-----------+\n"
     ]
    }
   ],
   "source": [
    "\n",
    "tabla.imptabla(clases_sorted, fa_sorted, frecuencia_relativa, frecuencia_relativa_acumulada)"
   ]
  }
 ],
 "metadata": {
  "kernelspec": {
   "display_name": "Python 3 (ipykernel)",
   "language": "python",
   "name": "python3"
  },
  "language_info": {
   "codemirror_mode": {
    "name": "ipython",
    "version": 3
   },
   "file_extension": ".py",
   "mimetype": "text/x-python",
   "name": "python",
   "nbconvert_exporter": "python",
   "pygments_lexer": "ipython3",
   "version": "3.11.4"
  }
 },
 "nbformat": 4,
 "nbformat_minor": 5
}
