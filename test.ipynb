{
 "cells": [
  {
   "cell_type": "code",
   "execution_count": 1,
   "id": "e9db266f-0800-4804-9a8c-54635513c1a9",
   "metadata": {},
   "outputs": [],
   "source": [
    "import CodeBase.Valeria as v\n",
    "import CodeBase.Carlos as c\n",
    "import CodeBase.Asael as am\n",
    "import CodeBase.Sebastian as s\n",
    "import CodeBase.Lizbeth as l"
   ]
  },
  {
   "cell_type": "code",
   "execution_count": 2,
   "id": "38829d8f-8dae-4112-9eb1-14d33ed67492",
   "metadata": {},
   "outputs": [
    {
     "name": "stdout",
     "output_type": "stream",
     "text": [
      "Clases:  [-2, 2.111, 5, 6, 7, 11, 20]\n",
      "Frec. absoluta:  [4, 2, 4, 2, 4, 2, 2]\n",
      "Frecuencia relativa: [20.0, 10.0, 20.0, 10.0, 20.0, 10.0, 10.0]\n",
      "Frecuencia relativa acumulada: [20.0, 30.0, 50.0, 60.0, 80.0, 90.0, 100.0]\n"
     ]
    }
   ],
   "source": [
    "datos_entrada = [-2, -2, -2, -2, 2.111, 2.111, 5, 5, 5, 5, 6, 6, 7, 7, 7, 7, 11, 11, 20, 20]\n",
    "clases, fa_absoluta= v.frec_abs(datos_entrada)\n",
    "clases_sorted = c.ordenar_asc(clases)\n",
    "fa_sorted = am.sort_clases_fa(clases, clases_sorted, fa_absoluta)\n",
    "print (\"Clases: \", clases_sorted)\n",
    "print(\"Frec. absoluta: \", fa_sorted)\n",
    "frecuencia_relativa = s.obtener_frecuencia_relativa(fa_sorted)\n",
    "print(\"Frecuencia relativa:\", frecuencia_relativa)\n",
    "frecuencia_relativa_acumulada=l.obtener_frecuencia_relativa_acumulada(frecuencia_relativa)\n",
    "print(\"Frecuencia relativa acumulada:\", frecuencia_relativa_acumulada)"
   ]
  },
  {
   "cell_type": "code",
   "execution_count": 4,
   "id": "d129486a-4a58-4ea2-8f8f-94be73946ddb",
   "metadata": {},
   "outputs": [
    {
     "ename": "SyntaxError",
     "evalue": "invalid syntax (2332212958.py, line 8)",
     "output_type": "error",
     "traceback": [
      "\u001b[0;36m  Cell \u001b[0;32mIn[4], line 8\u001b[0;36m\u001b[0m\n\u001b[0;31m    print(.join(encabezados))\u001b[0m\n\u001b[0m          ^\u001b[0m\n\u001b[0;31mSyntaxError\u001b[0m\u001b[0;31m:\u001b[0m invalid syntax\n"
     ]
    }
   ],
   "source": [
    "def imptabla(clases_sorted, fa_sorted, fr_relativa, fr_acum):\n",
    " \n",
    "\n",
    "  encabezados = [\"Clases\", \"F absoluta\", \"F relativa\", \"F acumulada\"]\n",
    "\n",
    "  \n",
    "  print(\"+\".join([\"-\" * len(str(encabezado)) for encabezado in encabezados]) + \"+\")\n",
    "  print(\"| \" + \" | \".join(encabezados) + \" |\")\n",
    "  print(\"+\".join([\"-\" * len(str(encabezado)) for encabezado in encabezados]) + \"+\")\n",
    "\n",
    "  \n",
    "  for i in range(len(clases_sorted)):\n",
    "    fila = [clases_sorted[i], fa_sorted[i], fr_relativa[i], fr_acum[i]]\n",
    "    print(\"| \" + \" | \".join([str(dato) for dato in fila]) + \" |\")\n",
    "\n",
    "  \n",
    "  print(\"+\".join([\"-\" * len(str(encabezado)) for encabezado in encabezados]) + \"+\")\n",
    "\n",
    "\n",
    "imptabla(clases_sorted, fa_sorted, frecuencia_relativa, frecuencia_relativa_acumulada)"
   ]
  }
 ],
 "metadata": {
  "kernelspec": {
   "display_name": "Python 3 (ipykernel)",
   "language": "python",
   "name": "python3"
  },
  "language_info": {
   "codemirror_mode": {
    "name": "ipython",
    "version": 3
   },
   "file_extension": ".py",
   "mimetype": "text/x-python",
   "name": "python",
   "nbconvert_exporter": "python",
   "pygments_lexer": "ipython3",
   "version": "3.11.4"
  }
 },
 "nbformat": 4,
 "nbformat_minor": 5
}
