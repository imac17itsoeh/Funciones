{
 "cells": [
  {
   "cell_type": "code",
   "execution_count": 1,
   "id": "c746592d-5e1d-447e-b55f-712d1809e640",
   "metadata": {},
   "outputs": [],
   "source": [
    "import CodeBase.Valeria as v\n",
    "import CodeBase.Carlos as c\n",
    "import CodeBase.Asael as am\n",
    "import CodeBase.Sebastian as s\n",
    "import CodeBase.Lizbeth as l\n",
    "import CodeBase.Manuel as m\n",
    "import CodeBase.Granados as g\n",
    "import CodeBase.Abraham as h"
   ]
  },
  {
   "cell_type": "code",
   "execution_count": 2,
   "id": "768bdd72-ed2d-4255-98a0-ce832042ee46",
   "metadata": {},
   "outputs": [
    {
     "name": "stdout",
     "output_type": "stream",
     "text": [
      "Lista ordenadas  [0, 0, 0.33, 0.33, 0.33, 0.33, 0.66, 0.66, 0.66, 0.66, 0.99, 0.99, 0.99, 1.32, 1.32, 1.32, 1.65, 1.65, 1.65, 1.65]\n",
      "Limites inferiores:  [0.0, 0.32999999999999996, 0.6599999999999999, 0.9899999999999999, 1.3199999999999998]\n",
      "Limites superiores:  [0.32999999999999996, 0.6599999999999999, 0.9899999999999999, 1.3199999999999998, 1.65]\n",
      "Marcas de clase:  [0.16499999999999998, 0.49499999999999994, 0.825, 1.1549999999999998, 1.4849999999999999]\n",
      "Frecuencias absolutas agrupadas: [2, 4, 4, 3, 7]\n",
      "Frecuencia relativa: [10.0, 20.0, 20.0, 15.0, 35.0]\n",
      "Frecuencia relativa acumulada: [10.0, 30.0, 50.0, 65.0, 100.0]\n",
      "\n",
      "| N°| LimInf | LimSup| MarcaC| fa | fr | Facum |\n",
      "|---|--------|--------|-------|----|----|-----|\n",
      "| 1 | 0.0000 | 0.3300 | 0.1650 | 2 | 10.00% | 10.00% |\n",
      "| 2 | 0.3300 | 0.6600 | 0.4950 | 4 | 20.00% | 30.00% |\n",
      "| 3 | 0.6600 | 0.9900 | 0.8250 | 4 | 20.00% | 50.00% |\n",
      "| 4 | 0.9900 | 1.3200 | 1.1550 | 3 | 15.00% | 65.00% |\n",
      "| 5 | 1.3200 | 1.6500 | 1.4850 | 7 | 35.00% | 100.00% |\n",
      "|---|--------|--------|-------|----|----|-----|\n",
      "\n"
     ]
    }
   ],
   "source": [
    "lista=[0.33, 1.65, 1.65, 0.66, 0.99, 0, 0.99, 1.32, 0.99, 0.33, 1.65, 0.66, 1.32, 1.65, 0.33, 0.66, 0, 1.32, 0.66, 0.33]\n",
    "ordenadas=c.ordenar_asc(lista) \n",
    "print(\"Lista ordenadas \",ordenadas)\n",
    "clases_sorted = c.ordenar_asc(lista)\n",
    "lim_inf, lim_sup, mrks = m.calcular_estadisticas_intervalos(ordenadas)\n",
    "print (\"Limites inferiores: \",lim_inf)\n",
    "print(\"Limites superiores: \",lim_sup)\n",
    "print(\"Marcas de clase: \", mrks)\n",
    "fa= g.fa_grouped(ordenadas, lim_inf, lim_sup)\n",
    "print(\"Frecuencias absolutas agrupadas:\", fa)\n",
    "\n",
    "fr = s.obtener_frecuencia_relativa(fa)\n",
    "print(\"Frecuencia relativa:\",fr)\n",
    "facum=l.obtener_frecuencia_relativa_acumulada(fr)\n",
    "print(\"Frecuencia relativa acumulada:\", facum)\n",
    "print()\n",
    "tabla_generada = h.generar_tabla_distribucion_frecuencias(ordenadas, lim_inf, lim_sup,mrks, fa, fr, facum)\n",
    "\n",
    "print(tabla_generada)"
   ]
  }
 ],
 "metadata": {
  "kernelspec": {
   "display_name": "Python 3 (ipykernel)",
   "language": "python",
   "name": "python3"
  },
  "language_info": {
   "codemirror_mode": {
    "name": "ipython",
    "version": 3
   },
   "file_extension": ".py",
   "mimetype": "text/x-python",
   "name": "python",
   "nbconvert_exporter": "python",
   "pygments_lexer": "ipython3",
   "version": "3.11.4"
  }
 },
 "nbformat": 4,
 "nbformat_minor": 5
}
