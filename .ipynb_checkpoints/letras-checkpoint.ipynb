{
 "cells": [
  {
   "cell_type": "code",
   "execution_count": 22,
   "id": "2eab4abb-861d-4ee1-8046-53c14db41a76",
   "metadata": {},
   "outputs": [],
   "source": [
    "import CodeBase.Valeria as v\n",
    "import CodeBase.Carlos as c\n",
    "import CodeBase.Asael as am\n",
    "import CodeBase.Sebastian as s\n",
    "import CodeBase.Lizbeth as l"
   ]
  },
  {
   "cell_type": "code",
   "execution_count": 10,
   "id": "93c05c33-8e58-494c-a266-abdd9e3b23f7",
   "metadata": {},
   "outputs": [],
   "source": [
    "def formateando_str(nombres):\n",
    "  \"\"\"\n",
    "  Función que quita los acentos y convierte a mayúsculas los elementos de un arreglo de nombres.\n",
    "\n",
    "  Argumentos:\n",
    "    nombres (list): El arreglo de nombres a formatear.\n",
    "\n",
    "  Retorna:\n",
    "    list: El arreglo de nombres formateado sin acentos y en mayúsculas.\n",
    "  \"\"\"\n",
    "\n",
    "  # Diccionario de traducción de caracteres acentuados a sin acentos\n",
    "  diccionario_acentos = {\n",
    "      \"á\": \"A\",\n",
    "      \"é\": \"E\",\n",
    "      \"í\": \"I\",\n",
    "      \"ó\": \"O\",\n",
    "      \"ú\": \"U\"\n",
    "  }\n",
    "  nombres_formateados = []\n",
    "  for nombre in nombres:\n",
    "    nombre_sin_acentos = nombre.translate(str.maketrans(diccionario_acentos))\n",
    "\n",
    "    nombre_final = nombre_sin_acentos.upper().replace(\" \", \"\").strip()\n",
    "\n",
    "    nombres_formateados.append(nombre_final)\n",
    "\n",
    "  return nombres_formateados"
   ]
  },
  {
   "cell_type": "code",
   "execution_count": 18,
   "id": "63501463-9976-4239-acd3-ae95f0305f5a",
   "metadata": {},
   "outputs": [
    {
     "name": "stdout",
     "output_type": "stream",
     "text": [
      "['BESOOO', 'AGUA', 'DEDO', 'CRACK', 'BESOOO', 'BESOOO', 'AGUA', 'ÑOÑO', 'ÑOÑO']\n"
     ]
    }
   ],
   "source": [
    "lista = ['besooo', 'agua', 'dedo', 'crack', 'bEsooo', '     besooo', 'aguA', \"ñoño\", \"ÑOÑO\"]\n",
    "datos_nuevos= formateando_str(lista)\n",
    "print(datos_nuevos)"
   ]
  },
  {
   "cell_type": "code",
   "execution_count": 20,
   "id": "30f73cba-f738-4a56-adcb-f3cce2235662",
   "metadata": {},
   "outputs": [],
   "source": [
    "def ordenar_cadenas(cadenas_formateadas):\n",
    "\n",
    "  for i in range(len(cadenas_formateadas)):\n",
    "    for j in range(i + 1, len(cadenas_formateadas)):\n",
    "      if cadenas_formateadas[i] > cadenas_formateadas[j]:\n",
    "        cadenas_formateadas[i], cadenas_formateadas[j] = cadenas_formateadas[j], cadenas_formateadas[i]\n",
    "\n",
    "  return cadenas_formateadas"
   ]
  },
  {
   "cell_type": "code",
   "execution_count": 21,
   "id": "860236ee-d28a-4b77-8a2f-0cf509fefcfc",
   "metadata": {},
   "outputs": [
    {
     "name": "stdout",
     "output_type": "stream",
     "text": [
      "['AGUA', 'AGUA', 'BESOOO', 'BESOOO', 'BESOOO', 'CRACK', 'DEDO', 'ÑOÑO', 'ÑOÑO']\n",
      "['AGUA', 'AGUA', 'BESOOO', 'BESOOO', 'BESOOO', 'CRACK', 'DEDO', 'ÑOÑO', 'ÑOÑO']\n"
     ]
    }
   ],
   "source": [
    "lista = ['besooo', 'agua', 'dedo', 'crack', 'bEsooo', '     besooo', 'aguA', \"ñoño\", \"ÑOÑO\"]\n",
    "datos_nuevos= formateando_str(lista)\n",
    "ordenadas=ordenar_cadenas(datos_nuevos) \n",
    "print(datos_nuevos)\n",
    "print(ordenadas)"
   ]
  },
  {
   "cell_type": "code",
   "execution_count": 25,
   "id": "2701886c-04c1-4cd2-b4ef-a9e69e643ead",
   "metadata": {},
   "outputs": [
    {
     "name": "stdout",
     "output_type": "stream",
     "text": [
      "Clases:  ['AGUA', 'BESOOO', 'CRACK', 'DEDO', 'ÑOÑO']\n",
      "Frec. absoluta:  [2, 3, 1, 1, 2]\n",
      "Frecuencia relativa: [22.22222222222222, 33.33333333333333, 11.11111111111111, 11.11111111111111, 22.22222222222222]\n",
      "Frecuencia relativa acumulada: [22.22222222222222, 55.55555555555555, 66.66666666666666, 77.77777777777777, 100.0]\n"
     ]
    }
   ],
   "source": [
    "datos_nuevos= formateando_str(lista)\n",
    "ordenadas=ordenar_cadenas(datos_nuevos) \n",
    "clases, fa_absoluta= v.frec_abs(ordenadas)\n",
    "clases_sorted = c.ordenar_asc(clases)\n",
    "fa_sorted = am.sort_clases_fa(clases, clases_sorted, fa_absoluta)\n",
    "print (\"Clases: \", clases_sorted)\n",
    "print(\"Frec. absoluta: \", fa_sorted)\n",
    "frecuencia_relativa = s.obtener_frecuencia_relativa(fa_sorted)\n",
    "print(\"Frecuencia relativa:\", frecuencia_relativa)\n",
    "frecuencia_relativa_acumulada=l.obtener_frecuencia_relativa_acumulada(frecuencia_relativa)\n",
    "print(\"Frecuencia relativa acumulada:\", frecuencia_relativa_acumulada)"
   ]
  }
 ],
 "metadata": {
  "kernelspec": {
   "display_name": "Python 3 (ipykernel)",
   "language": "python",
   "name": "python3"
  },
  "language_info": {
   "codemirror_mode": {
    "name": "ipython",
    "version": 3
   },
   "file_extension": ".py",
   "mimetype": "text/x-python",
   "name": "python",
   "nbconvert_exporter": "python",
   "pygments_lexer": "ipython3",
   "version": "3.11.4"
  }
 },
 "nbformat": 4,
 "nbformat_minor": 5
}
