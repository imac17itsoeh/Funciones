{
 "cells": [
  {
   "cell_type": "code",
   "execution_count": 4,
   "id": "2eab4abb-861d-4ee1-8046-53c14db41a76",
   "metadata": {},
   "outputs": [],
   "source": [
    "import CodeBase.Valeria as v\n",
    "import CodeBase.Carlos as c\n",
    "import CodeBase.Asael as am\n",
    "import CodeBase.Sebastian as s\n",
    "import CodeBase.Lizbeth as l\n",
    "import CodeBase.Hernandez as z\n",
    "import CodeBase.Calva as ca"
   ]
  },
  {
   "cell_type": "code",
   "execution_count": 7,
   "id": "2701886c-04c1-4cd2-b4ef-a9e69e643ead",
   "metadata": {},
   "outputs": [
    {
     "name": "stdout",
     "output_type": "stream",
     "text": [
      "Clases:  ['ABRAHAM', 'CARMEN', 'KAREN', 'VALERIA']\n",
      "Frec. absoluta:  [2, 3, 1, 1]\n",
      "Frecuencia relativa: [28.57142857142857, 42.857142857142854, 14.285714285714285, 14.285714285714285]\n",
      "Frecuencia relativa acumulada: [28.57142857142857, 71.42857142857142, 85.7142857142857, 99.99999999999997]\n"
     ]
    }
   ],
   "source": [
    "lista=[ \"Valeria\", \"  Karen\", \" Abraham\", \"ABRAHAM\", \"CarMEN\", \"carmen\", \"car men\"]\n",
    "datos_nuevos= ca.formateando_str(lista)\n",
    "ordenadas=z.ordenar_cadenas(datos_nuevos) \n",
    "clases, fa_absoluta= v.frec_abs(ordenadas)\n",
    "clases_sorted = c.ordenar_asc(clases)\n",
    "fa_sorted = am.sort_clases_fa(clases, clases_sorted, fa_absoluta)\n",
    "print (\"Clases: \", clases_sorted)\n",
    "print(\"Frec. absoluta: \", fa_sorted)\n",
    "frecuencia_relativa = s.obtener_frecuencia_relativa(fa_sorted)\n",
    "print(\"Frecuencia relativa:\", frecuencia_relativa)\n",
    "frecuencia_relativa_acumulada=l.obtener_frecuencia_relativa_acumulada(frecuencia_relativa)\n",
    "print(\"Frecuencia relativa acumulada:\", frecuencia_relativa_acumulada)"
   ]
  }
 ],
 "metadata": {
  "kernelspec": {
   "display_name": "Python 3 (ipykernel)",
   "language": "python",
   "name": "python3"
  },
  "language_info": {
   "codemirror_mode": {
    "name": "ipython",
    "version": 3
   },
   "file_extension": ".py",
   "mimetype": "text/x-python",
   "name": "python",
   "nbconvert_exporter": "python",
   "pygments_lexer": "ipython3",
   "version": "3.11.4"
  }
 },
 "nbformat": 4,
 "nbformat_minor": 5
}
