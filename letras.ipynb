{
 "cells": [
  {
   "cell_type": "code",
   "execution_count": 4,
   "id": "2eab4abb-861d-4ee1-8046-53c14db41a76",
   "metadata": {},
   "outputs": [],
   "source": [
    "import CodeBase.Valeria as v\n",
    "import CodeBase.Carlos as c\n",
    "import CodeBase.Asael as am\n",
    "import CodeBase.Sebastian as s\n",
    "import CodeBase.Lizbeth as l\n",
    "import CodeBase.Hernandez as z\n",
    "import CodeBase.Calva as ca"
   ]
  },
  {
   "cell_type": "code",
   "execution_count": 5,
   "id": "2701886c-04c1-4cd2-b4ef-a9e69e643ead",
   "metadata": {},
   "outputs": [
    {
     "ename": "NameError",
     "evalue": "name 'lista' is not defined",
     "output_type": "error",
     "traceback": [
      "\u001b[0;31m---------------------------------------------------------------------------\u001b[0m",
      "\u001b[0;31mNameError\u001b[0m                                 Traceback (most recent call last)",
      "Cell \u001b[0;32mIn[5], line 1\u001b[0m\n\u001b[0;32m----> 1\u001b[0m datos_nuevos\u001b[38;5;241m=\u001b[39m ca\u001b[38;5;241m.\u001b[39mformateando_str(\u001b[43mlista\u001b[49m)\n\u001b[1;32m      2\u001b[0m ordenadas\u001b[38;5;241m=\u001b[39mz\u001b[38;5;241m.\u001b[39mordenar_cadenas(datos_nuevos) \n\u001b[1;32m      3\u001b[0m clases, fa_absoluta\u001b[38;5;241m=\u001b[39m v\u001b[38;5;241m.\u001b[39mfrec_abs(ordenadas)\n",
      "\u001b[0;31mNameError\u001b[0m: name 'lista' is not defined"
     ]
    }
   ],
   "source": [
    "lista=[ \"Valeria\", \"  Karen\", \" Abraham\", \"ABRAHAM\"]\n",
    "datos_nuevos= ca.formateando_str(lista)\n",
    "ordenadas=z.ordenar_cadenas(datos_nuevos) \n",
    "clases, fa_absoluta= v.frec_abs(ordenadas)\n",
    "clases_sorted = c.ordenar_asc(clases)\n",
    "fa_sorted = am.sort_clases_fa(clases, clases_sorted, fa_absoluta)\n",
    "print (\"Clases: \", clases_sorted)\n",
    "print(\"Frec. absoluta: \", fa_sorted)\n",
    "frecuencia_relativa = s.obtener_frecuencia_relativa(fa_sorted)\n",
    "print(\"Frecuencia relativa:\", frecuencia_relativa)\n",
    "frecuencia_relativa_acumulada=l.obtener_frecuencia_relativa_acumulada(frecuencia_relativa)\n",
    "print(\"Frecuencia relativa acumulada:\", frecuencia_relativa_acumulada)"
   ]
  }
 ],
 "metadata": {
  "kernelspec": {
   "display_name": "Python 3 (ipykernel)",
   "language": "python",
   "name": "python3"
  },
  "language_info": {
   "codemirror_mode": {
    "name": "ipython",
    "version": 3
   },
   "file_extension": ".py",
   "mimetype": "text/x-python",
   "name": "python",
   "nbconvert_exporter": "python",
   "pygments_lexer": "ipython3",
   "version": "3.11.4"
  }
 },
 "nbformat": 4,
 "nbformat_minor": 5
}
